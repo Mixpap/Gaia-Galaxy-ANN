{
 "metadata": {
  "name": "",
  "signature": "sha256:4146b9f8dc719ac0030000bc305ed31d36e119b5397b9f5e30a33d59a0181457"
 },
 "nbformat": 3,
 "nbformat_minor": 0,
 "worksheets": [
  {
   "cells": [
    {
     "cell_type": "code",
     "collapsed": false,
     "input": [
      "%matplotlib inline\n",
      "import matplotlib.pyplot as plt\n",
      "import numpy as np\n",
      "from IPython.core.pylabtools import figsize\n",
      "from IPython.html.widgets import interact, interactive, fixed\n",
      "from IPython.html import widgets\n",
      "from IPython.display import clear_output, display, HTML\n",
      "import pandas as pd\n",
      "from pandas.tools.plotting import *\n",
      "import seaborn\n",
      "from os import listdir"
     ],
     "language": "python",
     "metadata": {},
     "outputs": [
      {
       "output_type": "stream",
       "stream": "stderr",
       "text": [
        "/usr/local/lib/python2.7/dist-packages/pandas/io/excel.py:626: UserWarning: Installed openpyxl is not supported at this time. Use >=1.6.1 and <2.0.0.\n",
        "  .format(openpyxl_compat.start_ver, openpyxl_compat.stop_ver))\n"
       ]
      }
     ],
     "prompt_number": 1
    },
    {
     "cell_type": "code",
     "collapsed": false,
     "input": [
      "import funcs"
     ],
     "language": "python",
     "metadata": {},
     "outputs": [],
     "prompt_number": 2
    },
    {
     "cell_type": "code",
     "collapsed": false,
     "input": [
      "df=funcs.Folder_Regression_Report('AZres')"
     ],
     "language": "python",
     "metadata": {},
     "outputs": [
      {
       "output_type": "stream",
       "stream": "stdout",
       "text": [
        "Reading 23 files in AZres\n",
        "0"
       ]
      },
      {
       "output_type": "stream",
       "stream": "stdout",
       "text": [
        " i96o2h12n0.02d0.001c20.res 0.0161156019938 0.00330029299554\n",
        "1"
       ]
      },
      {
       "output_type": "stream",
       "stream": "stdout",
       "text": [
        " i96o2h24n0.2d0.01c1.res 0.431297720814 0.100084073753\n",
        "2"
       ]
      },
      {
       "output_type": "stream",
       "stream": "stdout",
       "text": [
        " i96o2h12n0.2d0.001c1.res 0.0472345902455 0.00649141062851\n",
        "3"
       ]
      },
      {
       "output_type": "stream",
       "stream": "stdout",
       "text": [
        " i96o2h24n0.02d0.001c500.res 0.0090125914575 0.00156421719802\n",
        "4"
       ]
      },
      {
       "output_type": "stream",
       "stream": "stdout",
       "text": [
        " i96o2h24n0.02d0.01c25.res 0.0111272826513 0.00235476516179\n",
        "5"
       ]
      },
      {
       "output_type": "stream",
       "stream": "stdout",
       "text": [
        " i96o2h24h12n0.2d0.1c2.res 0.0274962956668 0.00468835765793\n",
        "6"
       ]
      },
      {
       "output_type": "stream",
       "stream": "stdout",
       "text": [
        " i96o2h12n0.002d0.1c50.res 0.0353989360635 0.00771992617875\n",
        "7"
       ]
      },
      {
       "output_type": "stream",
       "stream": "stdout",
       "text": [
        " i96o2h24h12n0.02d0.01c3.5.res 0.0133907902431 0.00222097321333\n",
        "8"
       ]
      },
      {
       "output_type": "stream",
       "stream": "stdout",
       "text": [
        " i96o2h24n0.002d0.001c300.res 0.0102388676932 0.00192579590311\n",
        "9"
       ]
      },
      {
       "output_type": "stream",
       "stream": "stdout",
       "text": [
        " i96o2h24n0.2d0.001c1.res 0.558636733298 0.0861208763513\n",
        "10"
       ]
      },
      {
       "output_type": "stream",
       "stream": "stdout",
       "text": [
        " i96o2h12n0.02d0.01c10.res 0.0172896379811 0.00365530112906\n",
        "11"
       ]
      },
      {
       "output_type": "stream",
       "stream": "stdout",
       "text": [
        " i96o2h24h12n0.2d0.001c2.res 0.0146440815736 0.00189023670085\n",
        "12"
       ]
      },
      {
       "output_type": "stream",
       "stream": "stdout",
       "text": [
        " i96o2h24n0.2d0.1c1.res 0.375057434774 0.088600596029\n",
        "13"
       ]
      },
      {
       "output_type": "stream",
       "stream": "stdout",
       "text": [
        " i96o2h24h12n0.002d0.001c500.res 0.00739962332444 0.00118678316234\n",
        "14"
       ]
      },
      {
       "output_type": "stream",
       "stream": "stdout",
       "text": [
        " i96o2h12n0.2d0.01c1.res 0.0350557141348 0.00897447598293\n",
        "15"
       ]
      },
      {
       "output_type": "stream",
       "stream": "stdout",
       "text": [
        " i96o2h24n0.02d0.1c7.res 0.0315628181414 0.00693630485933\n",
        "16"
       ]
      },
      {
       "output_type": "stream",
       "stream": "stdout",
       "text": [
        " i96o2h24h12n0.02d0.1c2.res 0.0344578064112 0.00691024665285\n",
        "17"
       ]
      },
      {
       "output_type": "stream",
       "stream": "stdout",
       "text": [
        " i96o2h24n0.002d0.1c50.res 0.0351280068757 0.00771208285192\n",
        "18"
       ]
      },
      {
       "output_type": "stream",
       "stream": "stdout",
       "text": [
        " i96o2h24h12n0.02d0.001c5.res 0.0113834999707 0.00168223129056\n",
        "19"
       ]
      },
      {
       "output_type": "stream",
       "stream": "stdout",
       "text": [
        " i96o2h12n0.2d0.1c1.res 0.0485033056573 0.00895961895493\n",
        "20"
       ]
      },
      {
       "output_type": "stream",
       "stream": "stdout",
       "text": [
        " i96o2h24n0.002d0.01c9t.res 0.0200349381178 0.0050129236214\n",
        "21"
       ]
      },
      {
       "output_type": "stream",
       "stream": "stdout",
       "text": [
        " i96o2h24n0.002d0.001c19t.res 0.016034956387 0.00404022578603\n",
        "22"
       ]
      },
      {
       "output_type": "stream",
       "stream": "stdout",
       "text": [
        " i96o2h12n0.02d0.1c10.res 0.0313731803403 0.00687215793679\n"
       ]
      }
     ],
     "prompt_number": 3
    },
    {
     "cell_type": "code",
     "collapsed": false,
     "input": [
      "df.groupby('n').count()"
     ],
     "language": "python",
     "metadata": {},
     "outputs": [
      {
       "html": [
        "<div style=\"max-height:1000px;max-width:1500px;overflow:auto;\">\n",
        "<table border=\"1\" class=\"dataframe\">\n",
        "  <thead>\n",
        "    <tr style=\"text-align: right;\">\n",
        "      <th></th>\n",
        "      <th>File</th>\n",
        "      <th>Layers</th>\n",
        "      <th>SDA</th>\n",
        "      <th>SDZ</th>\n",
        "      <th>d</th>\n",
        "    </tr>\n",
        "    <tr>\n",
        "      <th>n</th>\n",
        "      <th></th>\n",
        "      <th></th>\n",
        "      <th></th>\n",
        "      <th></th>\n",
        "      <th></th>\n",
        "    </tr>\n",
        "  </thead>\n",
        "  <tbody>\n",
        "    <tr>\n",
        "      <th>0.002</th>\n",
        "      <td> 6</td>\n",
        "      <td> 6</td>\n",
        "      <td> 6</td>\n",
        "      <td> 6</td>\n",
        "      <td> 6</td>\n",
        "    </tr>\n",
        "    <tr>\n",
        "      <th>0.020</th>\n",
        "      <td> 9</td>\n",
        "      <td> 9</td>\n",
        "      <td> 9</td>\n",
        "      <td> 9</td>\n",
        "      <td> 9</td>\n",
        "    </tr>\n",
        "    <tr>\n",
        "      <th>0.200</th>\n",
        "      <td> 8</td>\n",
        "      <td> 8</td>\n",
        "      <td> 8</td>\n",
        "      <td> 8</td>\n",
        "      <td> 8</td>\n",
        "    </tr>\n",
        "  </tbody>\n",
        "</table>\n",
        "</div>"
       ],
       "metadata": {},
       "output_type": "pyout",
       "prompt_number": 5,
       "text": [
        "       File  Layers  SDA  SDZ  d\n",
        "n                               \n",
        "0.002     6       6    6    6  6\n",
        "0.020     9       9    9    9  9\n",
        "0.200     8       8    8    8  8"
       ]
      }
     ],
     "prompt_number": 5
    },
    {
     "cell_type": "code",
     "collapsed": false,
     "input": [
      "df[df['n']==0.002]"
     ],
     "language": "python",
     "metadata": {},
     "outputs": [
      {
       "html": [
        "<div style=\"max-height:1000px;max-width:1500px;overflow:auto;\">\n",
        "<table border=\"1\" class=\"dataframe\">\n",
        "  <thead>\n",
        "    <tr style=\"text-align: right;\">\n",
        "      <th></th>\n",
        "      <th>File</th>\n",
        "      <th>Layers</th>\n",
        "      <th>SDA</th>\n",
        "      <th>SDZ</th>\n",
        "      <th>d</th>\n",
        "      <th>n</th>\n",
        "    </tr>\n",
        "  </thead>\n",
        "  <tbody>\n",
        "    <tr>\n",
        "      <th>6 </th>\n",
        "      <td>       i96o2h12n0.002d0.1c50.res</td>\n",
        "      <td>     [12]</td>\n",
        "      <td> 0.035399</td>\n",
        "      <td> 0.007720</td>\n",
        "      <td> 0.100</td>\n",
        "      <td> 0.002</td>\n",
        "    </tr>\n",
        "    <tr>\n",
        "      <th>8 </th>\n",
        "      <td>    i96o2h24n0.002d0.001c300.res</td>\n",
        "      <td>     [24]</td>\n",
        "      <td> 0.010239</td>\n",
        "      <td> 0.001926</td>\n",
        "      <td> 0.001</td>\n",
        "      <td> 0.002</td>\n",
        "    </tr>\n",
        "    <tr>\n",
        "      <th>13</th>\n",
        "      <td> i96o2h24h12n0.002d0.001c500.res</td>\n",
        "      <td> [24, 12]</td>\n",
        "      <td> 0.007400</td>\n",
        "      <td> 0.001187</td>\n",
        "      <td> 0.001</td>\n",
        "      <td> 0.002</td>\n",
        "    </tr>\n",
        "    <tr>\n",
        "      <th>17</th>\n",
        "      <td>       i96o2h24n0.002d0.1c50.res</td>\n",
        "      <td>     [24]</td>\n",
        "      <td> 0.035128</td>\n",
        "      <td> 0.007712</td>\n",
        "      <td> 0.100</td>\n",
        "      <td> 0.002</td>\n",
        "    </tr>\n",
        "    <tr>\n",
        "      <th>20</th>\n",
        "      <td>      i96o2h24n0.002d0.01c9t.res</td>\n",
        "      <td>     [24]</td>\n",
        "      <td> 0.020035</td>\n",
        "      <td> 0.005013</td>\n",
        "      <td> 0.010</td>\n",
        "      <td> 0.002</td>\n",
        "    </tr>\n",
        "    <tr>\n",
        "      <th>21</th>\n",
        "      <td>    i96o2h24n0.002d0.001c19t.res</td>\n",
        "      <td>     [24]</td>\n",
        "      <td> 0.016035</td>\n",
        "      <td> 0.004040</td>\n",
        "      <td> 0.001</td>\n",
        "      <td> 0.002</td>\n",
        "    </tr>\n",
        "  </tbody>\n",
        "</table>\n",
        "</div>"
       ],
       "metadata": {},
       "output_type": "pyout",
       "prompt_number": 7,
       "text": [
        "                               File    Layers       SDA       SDZ      d  \\\n",
        "6         i96o2h12n0.002d0.1c50.res      [12]  0.035399  0.007720  0.100   \n",
        "8      i96o2h24n0.002d0.001c300.res      [24]  0.010239  0.001926  0.001   \n",
        "13  i96o2h24h12n0.002d0.001c500.res  [24, 12]  0.007400  0.001187  0.001   \n",
        "17        i96o2h24n0.002d0.1c50.res      [24]  0.035128  0.007712  0.100   \n",
        "20       i96o2h24n0.002d0.01c9t.res      [24]  0.020035  0.005013  0.010   \n",
        "21     i96o2h24n0.002d0.001c19t.res      [24]  0.016035  0.004040  0.001   \n",
        "\n",
        "        n  \n",
        "6   0.002  \n",
        "8   0.002  \n",
        "13  0.002  \n",
        "17  0.002  \n",
        "20  0.002  \n",
        "21  0.002  "
       ]
      }
     ],
     "prompt_number": 7
    },
    {
     "cell_type": "code",
     "collapsed": false,
     "input": [
      "df1=df[df['File'] != 'i96o2h24n0.002d0.001c19t.res']"
     ],
     "language": "python",
     "metadata": {},
     "outputs": [],
     "prompt_number": 10
    },
    {
     "cell_type": "code",
     "collapsed": false,
     "input": [
      "df2=df[df['n'] != 0.2]"
     ],
     "language": "python",
     "metadata": {},
     "outputs": [],
     "prompt_number": 12
    },
    {
     "cell_type": "code",
     "collapsed": false,
     "input": [
      "seaborn.factorplot('d','SDA','n',df2,kind='box',aspect=3)"
     ],
     "language": "python",
     "metadata": {},
     "outputs": [
      {
       "metadata": {},
       "output_type": "pyout",
       "prompt_number": 22,
       "text": [
        "<seaborn.axisgrid.FacetGrid at 0x668b190>"
       ]
      },
      {
       "metadata": {},
       "output_type": "display_data",
       "png": "[encoded data removed]",
       "text": [
        "<matplotlib.figure.Figure at 0x6aa5950>"
       ]
      }
     ],
     "prompt_number": 22
    },
    {
     "cell_type": "code",
     "collapsed": false,
     "input": [
      "df2[df2['d']==0.1].sort('SDZ')"
     ],
     "language": "python",
     "metadata": {},
     "outputs": [
      {
       "html": [
        "<div style=\"max-height:1000px;max-width:1500px;overflow:auto;\">\n",
        "<table border=\"1\" class=\"dataframe\">\n",
        "  <thead>\n",
        "    <tr style=\"text-align: right;\">\n",
        "      <th></th>\n",
        "      <th>File</th>\n",
        "      <th>Layers</th>\n",
        "      <th>SDA</th>\n",
        "      <th>SDZ</th>\n",
        "      <th>d</th>\n",
        "      <th>n</th>\n",
        "    </tr>\n",
        "  </thead>\n",
        "  <tbody>\n",
        "    <tr>\n",
        "      <th>22</th>\n",
        "      <td>   i96o2h12n0.02d0.1c10.res</td>\n",
        "      <td>     [12]</td>\n",
        "      <td> 0.031373</td>\n",
        "      <td> 0.006872</td>\n",
        "      <td> 0.1</td>\n",
        "      <td> 0.020</td>\n",
        "    </tr>\n",
        "    <tr>\n",
        "      <th>16</th>\n",
        "      <td> i96o2h24h12n0.02d0.1c2.res</td>\n",
        "      <td> [24, 12]</td>\n",
        "      <td> 0.034458</td>\n",
        "      <td> 0.006910</td>\n",
        "      <td> 0.1</td>\n",
        "      <td> 0.020</td>\n",
        "    </tr>\n",
        "    <tr>\n",
        "      <th>15</th>\n",
        "      <td>    i96o2h24n0.02d0.1c7.res</td>\n",
        "      <td>     [24]</td>\n",
        "      <td> 0.031563</td>\n",
        "      <td> 0.006936</td>\n",
        "      <td> 0.1</td>\n",
        "      <td> 0.020</td>\n",
        "    </tr>\n",
        "    <tr>\n",
        "      <th>17</th>\n",
        "      <td>  i96o2h24n0.002d0.1c50.res</td>\n",
        "      <td>     [24]</td>\n",
        "      <td> 0.035128</td>\n",
        "      <td> 0.007712</td>\n",
        "      <td> 0.1</td>\n",
        "      <td> 0.002</td>\n",
        "    </tr>\n",
        "    <tr>\n",
        "      <th>6 </th>\n",
        "      <td>  i96o2h12n0.002d0.1c50.res</td>\n",
        "      <td>     [12]</td>\n",
        "      <td> 0.035399</td>\n",
        "      <td> 0.007720</td>\n",
        "      <td> 0.1</td>\n",
        "      <td> 0.002</td>\n",
        "    </tr>\n",
        "  </tbody>\n",
        "</table>\n",
        "</div>"
       ],
       "metadata": {},
       "output_type": "pyout",
       "prompt_number": 24,
       "text": [
        "                          File    Layers       SDA       SDZ    d      n\n",
        "22    i96o2h12n0.02d0.1c10.res      [12]  0.031373  0.006872  0.1  0.020\n",
        "16  i96o2h24h12n0.02d0.1c2.res  [24, 12]  0.034458  0.006910  0.1  0.020\n",
        "15     i96o2h24n0.02d0.1c7.res      [24]  0.031563  0.006936  0.1  0.020\n",
        "17   i96o2h24n0.002d0.1c50.res      [24]  0.035128  0.007712  0.1  0.002\n",
        "6    i96o2h12n0.002d0.1c50.res      [12]  0.035399  0.007720  0.1  0.002"
       ]
      }
     ],
     "prompt_number": 24
    }
   ],
   "metadata": {}
  }
 ]
}