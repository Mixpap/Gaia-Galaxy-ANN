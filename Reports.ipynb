{
 "metadata": {
  "name": "",
  "signature": "sha256:85441bf3679aa64a4c6b6b535aa8953e87234d27306364c6405f45895d05275d"
 },
 "nbformat": 3,
 "nbformat_minor": 0,
 "worksheets": [
  {
   "cells": [
    {
     "cell_type": "code",
     "collapsed": false,
     "input": [
      "%matplotlib inline\n",
      "import matplotlib.pyplot as plt\n",
      "import numpy as np\n",
      "from IPython.core.pylabtools import figsize\n",
      "from IPython.html.widgets import interact, interactive, fixed\n",
      "from IPython.html import widgets\n",
      "from IPython.display import clear_output, display, HTML\n",
      "import pandas as pd\n",
      "from pandas.tools.plotting import *\n",
      "import seaborn\n",
      "from os import listdir\n",
      "%load_ext autoreload"
     ],
     "language": "python",
     "metadata": {},
     "outputs": [
      {
       "output_type": "stream",
       "stream": "stderr",
       "text": [
        "/usr/local/lib/python2.7/dist-packages/pandas/io/excel.py:626: UserWarning: Installed openpyxl is not supported at this time. Use >=1.6.1 and <2.0.0.\n",
        "  .format(openpyxl_compat.start_ver, openpyxl_compat.stop_ver))\n"
       ]
      }
     ],
     "prompt_number": 1
    },
    {
     "cell_type": "code",
     "collapsed": false,
     "input": [
      "%aimport funcs"
     ],
     "language": "python",
     "metadata": {},
     "outputs": [],
     "prompt_number": 2
    },
    {
     "cell_type": "code",
     "collapsed": false,
     "input": [
      "%autoreload 1"
     ],
     "language": "python",
     "metadata": {},
     "outputs": [],
     "prompt_number": 3
    },
    {
     "cell_type": "code",
     "collapsed": false,
     "input": [
      "df=funcs.Folder_Regression_Report('AZres')"
     ],
     "language": "python",
     "metadata": {},
     "outputs": []
    },
    {
     "cell_type": "code",
     "collapsed": false,
     "input": [
      "df.sort(['SDA','SDZ'])"
     ],
     "language": "python",
     "metadata": {},
     "outputs": []
    },
    {
     "cell_type": "code",
     "collapsed": false,
     "input": [
      "funcs.plot_reg_hist('AZres/i96o2h24h12n0.002d0.001c500.res')"
     ],
     "language": "python",
     "metadata": {},
     "outputs": []
    },
    {
     "cell_type": "code",
     "collapsed": false,
     "input": [
      "funcs.plot_reg_scat('AZres/i96o2h24h12n0.002d0.001c500.res')"
     ],
     "language": "python",
     "metadata": {},
     "outputs": []
    },
    {
     "cell_type": "code",
     "collapsed": false,
     "input": [
      "datafile = 'i96o18h48n0.002d0.001c3.res'\n",
      "\n",
      "r = pd.read_table(datafile, skiprows=8, chunksize=6)\n",
      "i = 0\n",
      "ID = []\n",
      "real = []\n",
      "res = []\n",
      "for chunk in r:\n",
      "    try:\n",
      "        ID.append(chunk.ix[0][0][1:])\n",
      "        real.append(np.fromstring(chunk.ix[1][0]+' '+chunk.ix[2][0], sep=' '))\n",
      "        res.append(np.fromstring(chunk.ix[3][0]+' '+chunk.ix[4][0], sep=' '))\n",
      "        #print ID[i],real[i],res[i]    \n",
      "        i = i + 1\n",
      "    except:\n",
      "        pass\n",
      "real = np.array(real)\n",
      "res = np.array(res)\n"
     ],
     "language": "python",
     "metadata": {},
     "outputs": []
    },
    {
     "cell_type": "code",
     "collapsed": false,
     "input": [
      "rest=np.zeros((np.shape(res)[0],4))\n",
      "realt=np.zeros((np.shape(res)[0],4))\n",
      "for i,ar in enumerate(res):\n",
      "    rest[i]=ar[:4]\n",
      "    realt[i]=real[i][:4]"
     ],
     "language": "python",
     "metadata": {},
     "outputs": [],
     "prompt_number": 84
    },
    {
     "cell_type": "code",
     "collapsed": false,
     "input": [
      "CM, NCM, dfCM, dfNCM=funcs.ConfusionMatrix(realt,rest)"
     ],
     "language": "python",
     "metadata": {},
     "outputs": [],
     "prompt_number": 87
    },
    {
     "cell_type": "code",
     "collapsed": false,
     "input": [
      "funcs.plot_CM(dfNCM,'test',0.5,0.5)"
     ],
     "language": "python",
     "metadata": {},
     "outputs": [
      {
       "metadata": {},
       "output_type": "display_data",
       "png": "[encoded data removed]",
       "text": [
        "<matplotlib.figure.Figure at 0x5196410>"
       ]
      }
     ],
     "prompt_number": 91
    },
    {
     "cell_type": "code",
     "collapsed": false,
     "input": [
      "seaborn.factorplot('d','SDA','n',df1,kind='box',aspect=3)"
     ],
     "language": "python",
     "metadata": {},
     "outputs": []
    },
    {
     "cell_type": "code",
     "collapsed": false,
     "input": [
      "df1['NHU']=funcs.NHU(df1['Layers'])"
     ],
     "language": "python",
     "metadata": {},
     "outputs": []
    },
    {
     "cell_type": "code",
     "collapsed": false,
     "input": [
      "seaborn.factorplot('NHU','SDZ','n',df1,kind='box',aspect=3)"
     ],
     "language": "python",
     "metadata": {},
     "outputs": []
    }
   ],
   "metadata": {}
  }
 ]
}